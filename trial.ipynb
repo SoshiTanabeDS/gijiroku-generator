{
 "cells": [
  {
   "cell_type": "code",
   "execution_count": 9,
   "metadata": {},
   "outputs": [],
   "source": [
    "import docx\n",
    "import os\n",
    "import pandas as pd"
   ]
  },
  {
   "cell_type": "code",
   "execution_count": 10,
   "metadata": {},
   "outputs": [],
   "source": [
    "SRC_DIR = r\"data\\src\""
   ]
  },
  {
   "cell_type": "code",
   "execution_count": 11,
   "metadata": {},
   "outputs": [],
   "source": [
    "template_path = os.path.join(SRC_DIR, \"template.docx\")\n",
    "doc = docx.Document(template_path)"
   ]
  },
  {
   "cell_type": "code",
   "execution_count": 12,
   "metadata": {},
   "outputs": [],
   "source": [
    "data_path = os.path.join(SRC_DIR, \"data.xlsx\")\n",
    "df = pd.read_excel(data_path, sheet_name='変数')"
   ]
  },
  {
   "cell_type": "code",
   "execution_count": 13,
   "metadata": {},
   "outputs": [
    {
     "data": {
      "text/html": [
       "<div>\n",
       "<style scoped>\n",
       "    .dataframe tbody tr th:only-of-type {\n",
       "        vertical-align: middle;\n",
       "    }\n",
       "\n",
       "    .dataframe tbody tr th {\n",
       "        vertical-align: top;\n",
       "    }\n",
       "\n",
       "    .dataframe thead th {\n",
       "        text-align: right;\n",
       "    }\n",
       "</style>\n",
       "<table border=\"1\" class=\"dataframe\">\n",
       "  <thead>\n",
       "    <tr style=\"text-align: right;\">\n",
       "      <th></th>\n",
       "      <th>KEY</th>\n",
       "      <th>VALUE</th>\n",
       "    </tr>\n",
       "  </thead>\n",
       "  <tbody>\n",
       "    <tr>\n",
       "      <th>0</th>\n",
       "      <td>開催日時</td>\n",
       "      <td>2022年12月4日</td>\n",
       "    </tr>\n",
       "    <tr>\n",
       "      <th>1</th>\n",
       "      <td>出席者</td>\n",
       "      <td>清水、仁志、高橋、松井、清原</td>\n",
       "    </tr>\n",
       "    <tr>\n",
       "      <th>2</th>\n",
       "      <td>会議名</td>\n",
       "      <td>XXX委員会</td>\n",
       "    </tr>\n",
       "    <tr>\n",
       "      <th>3</th>\n",
       "      <td>議題</td>\n",
       "      <td>・連絡事項\\n・意見集約</td>\n",
       "    </tr>\n",
       "  </tbody>\n",
       "</table>\n",
       "</div>"
      ],
      "text/plain": [
       "    KEY           VALUE\n",
       "0  開催日時      2022年12月4日\n",
       "1   出席者  清水、仁志、高橋、松井、清原\n",
       "2   会議名          XXX委員会\n",
       "3    議題    ・連絡事項\\n・意見集約"
      ]
     },
     "execution_count": 13,
     "metadata": {},
     "output_type": "execute_result"
    }
   ],
   "source": [
    "df.head()"
   ]
  },
  {
   "cell_type": "code",
   "execution_count": 14,
   "metadata": {},
   "outputs": [
    {
     "name": "stdout",
     "output_type": "stream",
     "text": [
      "P0: 開催日時：$開催日時$\n",
      "P1: 会議名：$会議名$\n",
      "P2: \n",
      "P3: 参加者：$出席者$\n",
      "P4: \n",
      "P5: 議題：\n",
      "P6: $議題$\n"
     ]
    }
   ],
   "source": [
    "for idx, paragraph in enumerate(doc.paragraphs):\n",
    "    print(f\"P{idx}: {paragraph.text}\")"
   ]
  },
  {
   "cell_type": "code",
   "execution_count": 15,
   "metadata": {},
   "outputs": [],
   "source": [
    "for paragraph in doc.paragraphs:\n",
    "    for key, value in zip(df[\"KEY\"], df[\"VALUE\"]):\n",
    "        key_docx = \"$\" + key + \"$\"\n",
    "        if key_docx in paragraph.text:\n",
    "            paragraph.text = paragraph.text.replace(key_docx, value)"
   ]
  },
  {
   "cell_type": "code",
   "execution_count": 16,
   "metadata": {},
   "outputs": [
    {
     "name": "stdout",
     "output_type": "stream",
     "text": [
      "P0: 開催日時：2022年12月4日\n",
      "P1: 会議名：XXX委員会\n",
      "P2: \n",
      "P3: 参加者：清水、仁志、高橋、松井、清原\n",
      "P4: \n",
      "P5: 議題：\n",
      "P6: ・連絡事項\n",
      "・意見集約\n"
     ]
    }
   ],
   "source": [
    "for idx, paragraph in enumerate(doc.paragraphs):\n",
    "    print(f\"P{idx}: {paragraph.text}\")"
   ]
  },
  {
   "cell_type": "code",
   "execution_count": 17,
   "metadata": {},
   "outputs": [],
   "source": [
    "doc.save(\"dst.docx\")"
   ]
  },
  {
   "cell_type": "code",
   "execution_count": null,
   "metadata": {},
   "outputs": [],
   "source": []
  }
 ],
 "metadata": {
  "kernelspec": {
   "display_name": "Python 3.8.12 64-bit",
   "language": "python",
   "name": "python3"
  },
  "language_info": {
   "codemirror_mode": {
    "name": "ipython",
    "version": 3
   },
   "file_extension": ".py",
   "mimetype": "text/x-python",
   "name": "python",
   "nbconvert_exporter": "python",
   "pygments_lexer": "ipython3",
   "version": "3.8.12"
  },
  "orig_nbformat": 4,
  "vscode": {
   "interpreter": {
    "hash": "f9c35dc47a8c7efbf6ea01d034a7da93ab3af470718340050d7494d4e2291797"
   }
  }
 },
 "nbformat": 4,
 "nbformat_minor": 2
}
